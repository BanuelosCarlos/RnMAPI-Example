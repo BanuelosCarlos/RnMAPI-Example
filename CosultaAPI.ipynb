{
 "cells": [
  {
   "cell_type": "code",
   "execution_count": 5,
   "metadata": {},
   "outputs": [],
   "source": [
    "import requests as rq\n",
    "import json"
   ]
  },
  {
   "cell_type": "code",
   "execution_count": 6,
   "metadata": {},
   "outputs": [
    {
     "name": "stdout",
     "output_type": "stream",
     "text": [
      "dict_keys(['id', 'name', 'status', 'species', 'type', 'gender', 'origin', 'location', 'image', 'episode', 'url', 'created'])\n",
      "Alive\n"
     ]
    }
   ],
   "source": [
    "#request simple\n",
    "\n",
    "sUrl = 'https://rickandmortyapi.com/api/character/2'\n",
    "request_1 = rq.get(sUrl)\n",
    "response_1 = request_1.text\n",
    "#print(response1)\n",
    "json_1 = request_1.json()\n",
    "print(json_1.keys())\n",
    "\n",
    "status_1 = json_1['status']\n",
    "print(status_1)"
   ]
  },
  {
   "cell_type": "code",
   "execution_count": 7,
   "metadata": {},
   "outputs": [
    {
     "name": "stdout",
     "output_type": "stream",
     "text": [
      "Rick Sanchez is Alive\n",
      "Morty Smith is Alive\n",
      "Summer Smith is Alive\n",
      "Beth Smith is Alive\n",
      "Jerry Smith is Alive\n"
     ]
    }
   ],
   "source": [
    "for num in range(1, 6):\n",
    "    sUrl = f'https://rickandmortyapi.com/api/character/{num}'\n",
    "    request_n = rq.get(sUrl)\n",
    "    response_n = request_n.text\n",
    "    #print(response1)\n",
    "    json_n = request_n.json()\n",
    "    status_n = json_n['status']\n",
    "    name_n = json_n['name']\n",
    "    print(f'{name_n} is {status_n}')\n"
   ]
  },
  {
   "cell_type": "code",
   "execution_count": 8,
   "metadata": {},
   "outputs": [
    {
     "name": "stdout",
     "output_type": "stream",
     "text": [
      "Character list of episode 1 that are humans: ['Rick Sanchez', 'Morty Smith', 'Beth Smith', 'Davin', 'Frank Palicky', 'Jerry Smith', \"Jessica's Friend\", 'Mrs. Sanchez', 'Summer Smith']\n",
      "Character list of episode 1 that are not humans: ['Bepisian', 'Canklanker Thom', 'Glenn', 'Hookah Alien', 'Jessica', 'Mr. Goldenfold', 'Principal Vagina', 'Davin', 'Greebybobe', 'Pripudlian']\n"
     ]
    }
   ],
   "source": [
    "sUrl_1 = 'https://rickandmortyapi.com/api/episode/1'\n",
    "request_2 = rq.get(sUrl_1)\n",
    "json_2 = request_2.json()\n",
    "#print(json_2['characters'])\n",
    "dCharacters_1 = json_2['characters']\n",
    "\n",
    "character_list_human = []\n",
    "character_list_other = []\n",
    "for character in dCharacters_1:\n",
    "    sUrl = character\n",
    "    request_n = rq.get(sUrl)\n",
    "    response_n = request_n.text\n",
    "    #print(response1)\n",
    "    json_n = request_n.json()\n",
    "    name_n = json_n['name']\n",
    "    if json_n['species'] == 'Human':\n",
    "        character_list_human.append(name_n)\n",
    "    else:\n",
    "        character_list_other.append(name_n)\n",
    "print(f'Character list of episode 1 that are humans: {character_list_human}')\n",
    "print(f'Character list of episode 1 that are not humans: {character_list_other}')"
   ]
  }
 ],
 "metadata": {
  "kernelspec": {
   "display_name": "Python 3.10.6 64-bit",
   "language": "python",
   "name": "python3"
  },
  "language_info": {
   "codemirror_mode": {
    "name": "ipython",
    "version": 3
   },
   "file_extension": ".py",
   "mimetype": "text/x-python",
   "name": "python",
   "nbconvert_exporter": "python",
   "pygments_lexer": "ipython3",
   "version": "3.10.6"
  },
  "orig_nbformat": 4,
  "vscode": {
   "interpreter": {
    "hash": "916dbcbb3f70747c44a77c7bcd40155683ae19c65e1c03b4aa3499c5328201f1"
   }
  }
 },
 "nbformat": 4,
 "nbformat_minor": 2
}
